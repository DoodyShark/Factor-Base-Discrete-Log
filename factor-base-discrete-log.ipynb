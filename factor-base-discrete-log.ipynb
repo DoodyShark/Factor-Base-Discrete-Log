{
 "cells": [
  {
   "cell_type": "code",
   "execution_count": 20,
   "metadata": {
    "collapsed": false
   },
   "outputs": [
    {
     "name": "stdout",
     "output_type": "stream",
     "text": [
      "prime p is: 1472371, primitive root g is: 3, element h is: 1157527\n"
     ]
    }
   ],
   "source": [
    "# Define all parameters\n",
    "p = 1472371;\n",
    "R = IntegerModRing(p)\n",
    "g = R(3);\n",
    "h = R(1157527);\n",
    "Z=IntegerRing();\n",
    "phi = p - 1;\n",
    "B = 10\n",
    "F = [nth_prime(i) for i in range(1, prime_pi(B) + 1)]\n",
    "\n",
    "print(\"prime p is: \" + str(p) + \", primitive root g is: \" + str(g) + \", element h is: \" + str(h))"
   ]
  },
  {
   "cell_type": "code",
   "execution_count": 21,
   "metadata": {
    "collapsed": false
   },
   "outputs": [
    {
     "name": "stdout",
     "output_type": "stream",
     "text": [
      "prime p is: 1472371, primitive root g is: 3, element h is: 1157527\n",
      "searching in range(1, 100000)\n"
     ]
    },
    {
     "name": "stdout",
     "output_type": "stream",
     "text": [
      "searching in range(100001, 200000)\n"
     ]
    },
    {
     "name": "stdout",
     "output_type": "stream",
     "text": [
      "searching in range(200001, 300000)\n"
     ]
    },
    {
     "name": "stdout",
     "output_type": "stream",
     "text": [
      "Number of B-Smooth: 13\n",
      "Candidate Relations:\n",
      "g^1 factors as 3\n",
      "g^7 factors as 3^7\n",
      "g^11 factors as 3^11\n",
      "g^32863 factors as 2^13 * 5 * 7\n",
      "g^32864 factors as 2^13 * 3 * 5 * 7\n",
      "g^68607 factors as 2^7 * 7\n",
      "g^68608 factors as 2^7 * 3 * 7\n",
      "g^204264 factors as 7^7\n",
      "g^214021 factors as 2^13 * 5\n",
      "g^214022 factors as 2^13 * 3 * 5\n",
      "g^249765 factors as 2^7\n",
      "g^249766 factors as 2^7 * 3\n",
      "g^249772 factors as 2^7 * 3^7\n"
     ]
    }
   ],
   "source": [
    "print(\"prime p is: \" + str(p) + \", primitive root g is: \" + str(g) + \", element h is: \" + str(h))\n",
    "window_width = 100000; #How large each window of search is\n",
    "num_iterations = 3 # How many windows to search through\n",
    "Candidates = []; # List of all candidate relations\n",
    "for y in range(1, num_iterations + 1):\n",
    "    ran = range(1 + (y-1)*window_width, y*window_width)\n",
    "    print(\"searching in \" + str(ran))\n",
    "    Small_Candidates = [i for i in ran] # Candidate relation list in current window\n",
    "    for x in ran:\n",
    "        for i in factor(Z(R(g^x))):\n",
    "            if i[0] > B or gcd(i[1],phi) != 1: # If there is a prime more than B therefore outside the factor base or the power of a prime is not invertible mod phi remove it\n",
    "                Small_Candidates.remove(x);\n",
    "                break;\n",
    "    Candidates.extend(Small_Candidates) # Add all the candidates to the list\n",
    "print(\"Number of B-Smooth: \" + str(len(Candidates)));\n",
    "print(\"Candidate Relations:\");\n",
    "if (len(Candidates) == 0):\n",
    "    print(\"None\");\n",
    "else:\n",
    "    for k in Candidates:\n",
    "        print(\"g^\" + str(k) + \" factors as \" + str(factor(Z(R(g^k)))))"
   ]
  },
  {
   "cell_type": "code",
   "execution_count": 0,
   "metadata": {
    "collapsed": false
   },
   "outputs": [
   ],
   "source": [
    "# g^1 factors as 3 => ind(3) = 1"
   ]
  },
  {
   "cell_type": "code",
   "execution_count": 22,
   "metadata": {
    "collapsed": false
   },
   "outputs": [
    {
     "name": "stdout",
     "output_type": "stream",
     "text": [
      "1051693\n"
     ]
    }
   ],
   "source": [
    "# g^249765 factors as 2^7\n",
    "# 249765 = 7*ind(2) [phi]\n",
    "inv_7 = mod(xgcd(7, phi)[1], phi);\n",
    "print(inv_7);"
   ]
  },
  {
   "cell_type": "code",
   "execution_count": 23,
   "metadata": {
    "collapsed": false
   },
   "outputs": [
    {
     "name": "stdout",
     "output_type": "stream",
     "text": [
      "877035\n"
     ]
    }
   ],
   "source": [
    "# => 249765 * 1051693 = ind(2) [phi]\n",
    "ind_2 = mod(249765 * 1051693, phi);\n",
    "print (ind_2)\n",
    "# => ind(2) = 877035"
   ]
  },
  {
   "cell_type": "code",
   "execution_count": 24,
   "metadata": {
    "collapsed": false
   },
   "outputs": [
    {
     "name": "stdout",
     "output_type": "stream",
     "text": [
      "591526\n"
     ]
    }
   ],
   "source": [
    "# g^214021 factors as 2^13 * 5\n",
    "# 214021 = 13ind(2) + ind(5) [phi]\n",
    "# => ind(5) = 214021 - 13*877035 [phi]\n",
    "ind_5 = mod(214021 - 13*877035, phi);\n",
    "print(ind_5)\n",
    "# => ind(5) = 591526"
   ]
  },
  {
   "cell_type": "code",
   "execution_count": 25,
   "metadata": {
    "collapsed": false
   },
   "outputs": [
    {
     "name": "stdout",
     "output_type": "stream",
     "text": [
      "1291212\n"
     ]
    }
   ],
   "source": [
    "# g^68607 factors as 2^7 * 7 \n",
    "# 68607 = 7ind(2) + ind(7)\n",
    "# ind(7) = 68607 - 7*877035 [phi]\n",
    "ind_7 = mod(68607 - 7*877035, phi);\n",
    "print(ind_7)\n",
    "# => ind(7) = 1291212"
   ]
  },
  {
   "cell_type": "code",
   "execution_count": 32,
   "metadata": {
    "collapsed": false
   },
   "outputs": [
    {
     "name": "stdout",
     "output_type": "stream",
     "text": [
      "Number of B-Smooth: 15\n",
      "Candidate Relations:\n",
      "h*g^8718 factors as 2^6 * 5^5\n",
      "h*g^8719 factors as 2^6 * 3 * 5^5\n",
      "h*g^12527 factors as 2^5 * 5^4\n",
      "h*g^12528 factors as 2^5 * 3 * 5^4\n",
      "h*g^12529 factors as 2^5 * 3^2 * 5^4\n",
      "h*g^12530 factors as 2^5 * 3^3 * 5^4\n",
      "h*g^15754 factors as 2^10 * 7^3\n",
      "h*g^15755 factors as 2^10 * 3 * 7^3\n",
      "h*g^16336 factors as 2^4 * 5^3\n",
      "h*g^16337 factors as 2^4 * 3 * 5^3\n",
      "h*g^16338 factors as 2^4 * 3^2 * 5^3\n",
      "h*g^16339 factors as 2^4 * 3^3 * 5^3\n",
      "h*g^16340 factors as 2^4 * 3^4 * 5^3\n",
      "h*g^16341 factors as 2^4 * 3^5 * 5^3\n",
      "h*g^16342 factors as 2^4 * 3^6 * 5^3\n"
     ]
    }
   ],
   "source": [
    "# Finding hg^r B-smooth\n",
    "min = 5000;\n",
    "max = 20000;\n",
    "ran = range(min, max);\n",
    "F = [nth_prime(i) for i in range(1, prime_pi(B) + 1)]\n",
    "H_Candidates = [i for i in ran]\n",
    "for x in ran:\n",
    "    for i in factor(Z(R(h*g^x))):\n",
    "        if i[0] > B:\n",
    "            H_Candidates.remove(x);\n",
    "            break;\n",
    "print(\"Number of B-Smooth: \" + str(len(H_Candidates)));\n",
    "print(\"Candidate Relations:\");\n",
    "if (len(H_Candidates) == 0):\n",
    "    print(\"None\");\n",
    "else:\n",
    "    for k in H_Candidates:\n",
    "        print(\"h*g^\" + str(k) + \" factors as \" + str(factor(Z(R(h*g^k)))))"
   ]
  },
  {
   "cell_type": "code",
   "execution_count": 27,
   "metadata": {
    "collapsed": false
   },
   "outputs": [
    {
     "name": "stdout",
     "output_type": "stream",
     "text": [
      "849272\n"
     ]
    }
   ],
   "source": [
    "# h*g^8718 factors as 2^6 * 5^5\n",
    "# => ind(h) + 8718 = 6*ind(2) + 5*ind(5)\n",
    "# => ind(h) = 6*877035 + 5*591526 - 8718 [phi]\n",
    "ind_h = mod(6*877035 + 5*591526 - 8718, phi);\n",
    "print(ind_h)\n",
    "# => ind(h) = 849272"
   ]
  },
  {
   "cell_type": "code",
   "execution_count": 30,
   "metadata": {
    "collapsed": false
   },
   "outputs": [
    {
     "data": {
      "text/plain": [
       "True"
      ]
     },
     "execution_count": 30,
     "metadata": {
     },
     "output_type": "execute_result"
    }
   ],
   "source": [
    "# Check:\n",
    "power_mod(g, ind_h, p) == h"
   ]
  }
 ],
 "metadata": {
  "kernelspec": {
   "display_name": "SageMath 9.7",
   "language": "sagemath",
   "metadata": {
    "cocalc": {
     "description": "Open-source mathematical software system",
     "priority": 10,
     "url": "https://www.sagemath.org/"
    }
   },
   "name": "sage-9.7",
   "resource_dir": "/ext/jupyter/kernels/sage-9.7"
  },
  "language_info": {
   "codemirror_mode": {
    "name": "ipython",
    "version": 3
   },
   "file_extension": ".py",
   "mimetype": "text/x-python",
   "name": "python",
   "nbconvert_exporter": "python",
   "pygments_lexer": "ipython3",
   "version": "3.10.5"
  }
 },
 "nbformat": 4,
 "nbformat_minor": 4
}